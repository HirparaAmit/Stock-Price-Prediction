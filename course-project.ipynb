{
 "cells": [
  {
   "cell_type": "markdown",
   "metadata": {
    "id": "HUt9oYwpHSYC"
   },
   "source": [
    "# Stock Exchange Data\n",
    "\n",
    "Daily price data for indexes tracking stock exchanges from all over the world (United States, China, Canada, Germany, Japan, and more). The data was all collected from Yahoo Finance, which had several decades of data available for most exchanges.\n",
    "\n",
    "In this project I am going to predict the close value of daily index prices for multiple Stock Exchanges.\n",
    "\n",
    "Dataset Link : https://www.kaggle.com/mattiuzc/stock-exchange-data"
   ]
  },
  {
   "cell_type": "markdown",
   "metadata": {
    "id": "4SqG9koNHX-C"
   },
   "source": [
    "# Create Datframe"
   ]
  },
  {
   "cell_type": "code",
   "execution_count": null,
   "metadata": {
    "colab": {
     "base_uri": "https://localhost:8080/"
    },
    "executionInfo": {
     "elapsed": 21927,
     "status": "ok",
     "timestamp": 1635830881069,
     "user": {
      "displayName": "19BCP008_ Amit Hirpara",
      "photoUrl": "https://lh3.googleusercontent.com/a/default-user=s64",
      "userId": "17377830786468711401"
     },
     "user_tz": -330
    },
    "id": "tq24zoaNG1ts",
    "outputId": "7b8ccfe8-9578-4f94-e683-e31c62badd9f"
   },
   "outputs": [
    {
     "name": "stdout",
     "output_type": "stream",
     "text": [
      "Collecting opendatasets\n",
      "  Downloading opendatasets-0.1.20-py3-none-any.whl (14 kB)\n",
      "Requirement already satisfied: click in /usr/local/lib/python3.7/dist-packages (from opendatasets) (7.1.2)\n",
      "Requirement already satisfied: kaggle in /usr/local/lib/python3.7/dist-packages (from opendatasets) (1.5.12)\n",
      "Requirement already satisfied: tqdm in /usr/local/lib/python3.7/dist-packages (from opendatasets) (4.62.3)\n",
      "Requirement already satisfied: certifi in /usr/local/lib/python3.7/dist-packages (from kaggle->opendatasets) (2021.5.30)\n",
      "Requirement already satisfied: six>=1.10 in /usr/local/lib/python3.7/dist-packages (from kaggle->opendatasets) (1.15.0)\n",
      "Requirement already satisfied: python-slugify in /usr/local/lib/python3.7/dist-packages (from kaggle->opendatasets) (5.0.2)\n",
      "Requirement already satisfied: urllib3 in /usr/local/lib/python3.7/dist-packages (from kaggle->opendatasets) (1.24.3)\n",
      "Requirement already satisfied: requests in /usr/local/lib/python3.7/dist-packages (from kaggle->opendatasets) (2.23.0)\n",
      "Requirement already satisfied: python-dateutil in /usr/local/lib/python3.7/dist-packages (from kaggle->opendatasets) (2.8.2)\n",
      "Requirement already satisfied: text-unidecode>=1.3 in /usr/local/lib/python3.7/dist-packages (from python-slugify->kaggle->opendatasets) (1.3)\n",
      "Requirement already satisfied: chardet<4,>=3.0.2 in /usr/local/lib/python3.7/dist-packages (from requests->kaggle->opendatasets) (3.0.4)\n",
      "Requirement already satisfied: idna<3,>=2.5 in /usr/local/lib/python3.7/dist-packages (from requests->kaggle->opendatasets) (2.10)\n",
      "Installing collected packages: opendatasets\n",
      "Successfully installed opendatasets-0.1.20\n",
      "Please provide your Kaggle credentials to download this dataset. Learn more: http://bit.ly/kaggle-creds\n",
      "Your Kaggle username: amithirpara\n",
      "Your Kaggle Key: ··········\n",
      "Downloading stock-exchange-data.zip to ./stock-exchange-data\n"
     ]
    },
    {
     "name": "stderr",
     "output_type": "stream",
     "text": [
      "100%|██████████| 4.56M/4.56M [00:00<00:00, 32.8MB/s]"
     ]
    },
    {
     "name": "stdout",
     "output_type": "stream",
     "text": [
      "\n"
     ]
    },
    {
     "name": "stderr",
     "output_type": "stream",
     "text": [
      "\n"
     ]
    }
   ],
   "source": [
    "!pip install opendatasets\n",
    "import opendatasets as od\n",
    "\n",
    "od.download('https://www.kaggle.com/mattiuzc/stock-exchange-data')"
   ]
  },
  {
   "cell_type": "markdown",
   "metadata": {
    "id": "mDk-OXveHp3O"
   },
   "source": [
    "I am going to use indexData.csv file for training and validation of my models."
   ]
  },
  {
   "cell_type": "code",
   "execution_count": null,
   "metadata": {
    "colab": {
     "base_uri": "https://localhost:8080/",
     "height": 424
    },
    "executionInfo": {
     "elapsed": 519,
     "status": "ok",
     "timestamp": 1635830924726,
     "user": {
      "displayName": "19BCP008_ Amit Hirpara",
      "photoUrl": "https://lh3.googleusercontent.com/a/default-user=s64",
      "userId": "17377830786468711401"
     },
     "user_tz": -330
    },
    "id": "CHwUQIBxHqmw",
    "outputId": "9a0fbc78-264e-4d24-ab11-33dfda1ae79b"
   },
   "outputs": [
    {
     "data": {
      "text/html": [
       "<div>\n",
       "<style scoped>\n",
       "    .dataframe tbody tr th:only-of-type {\n",
       "        vertical-align: middle;\n",
       "    }\n",
       "\n",
       "    .dataframe tbody tr th {\n",
       "        vertical-align: top;\n",
       "    }\n",
       "\n",
       "    .dataframe thead th {\n",
       "        text-align: right;\n",
       "    }\n",
       "</style>\n",
       "<table border=\"1\" class=\"dataframe\">\n",
       "  <thead>\n",
       "    <tr style=\"text-align: right;\">\n",
       "      <th></th>\n",
       "      <th>Index</th>\n",
       "      <th>Date</th>\n",
       "      <th>Open</th>\n",
       "      <th>High</th>\n",
       "      <th>Low</th>\n",
       "      <th>Close</th>\n",
       "      <th>Adj Close</th>\n",
       "      <th>Volume</th>\n",
       "    </tr>\n",
       "  </thead>\n",
       "  <tbody>\n",
       "    <tr>\n",
       "      <th>0</th>\n",
       "      <td>NYA</td>\n",
       "      <td>1965-12-31</td>\n",
       "      <td>528.690002</td>\n",
       "      <td>528.690002</td>\n",
       "      <td>528.690002</td>\n",
       "      <td>528.690002</td>\n",
       "      <td>528.690002</td>\n",
       "      <td>0.0</td>\n",
       "    </tr>\n",
       "    <tr>\n",
       "      <th>1</th>\n",
       "      <td>NYA</td>\n",
       "      <td>1966-01-03</td>\n",
       "      <td>527.210022</td>\n",
       "      <td>527.210022</td>\n",
       "      <td>527.210022</td>\n",
       "      <td>527.210022</td>\n",
       "      <td>527.210022</td>\n",
       "      <td>0.0</td>\n",
       "    </tr>\n",
       "    <tr>\n",
       "      <th>2</th>\n",
       "      <td>NYA</td>\n",
       "      <td>1966-01-04</td>\n",
       "      <td>527.840027</td>\n",
       "      <td>527.840027</td>\n",
       "      <td>527.840027</td>\n",
       "      <td>527.840027</td>\n",
       "      <td>527.840027</td>\n",
       "      <td>0.0</td>\n",
       "    </tr>\n",
       "    <tr>\n",
       "      <th>3</th>\n",
       "      <td>NYA</td>\n",
       "      <td>1966-01-05</td>\n",
       "      <td>531.119995</td>\n",
       "      <td>531.119995</td>\n",
       "      <td>531.119995</td>\n",
       "      <td>531.119995</td>\n",
       "      <td>531.119995</td>\n",
       "      <td>0.0</td>\n",
       "    </tr>\n",
       "    <tr>\n",
       "      <th>4</th>\n",
       "      <td>NYA</td>\n",
       "      <td>1966-01-06</td>\n",
       "      <td>532.070007</td>\n",
       "      <td>532.070007</td>\n",
       "      <td>532.070007</td>\n",
       "      <td>532.070007</td>\n",
       "      <td>532.070007</td>\n",
       "      <td>0.0</td>\n",
       "    </tr>\n",
       "    <tr>\n",
       "      <th>...</th>\n",
       "      <td>...</td>\n",
       "      <td>...</td>\n",
       "      <td>...</td>\n",
       "      <td>...</td>\n",
       "      <td>...</td>\n",
       "      <td>...</td>\n",
       "      <td>...</td>\n",
       "      <td>...</td>\n",
       "    </tr>\n",
       "    <tr>\n",
       "      <th>112452</th>\n",
       "      <td>N100</td>\n",
       "      <td>2021-05-27</td>\n",
       "      <td>1241.119995</td>\n",
       "      <td>1251.910034</td>\n",
       "      <td>1241.119995</td>\n",
       "      <td>1247.069946</td>\n",
       "      <td>1247.069946</td>\n",
       "      <td>379696400.0</td>\n",
       "    </tr>\n",
       "    <tr>\n",
       "      <th>112453</th>\n",
       "      <td>N100</td>\n",
       "      <td>2021-05-28</td>\n",
       "      <td>1249.469971</td>\n",
       "      <td>1259.209961</td>\n",
       "      <td>1249.030029</td>\n",
       "      <td>1256.599976</td>\n",
       "      <td>1256.599976</td>\n",
       "      <td>160773400.0</td>\n",
       "    </tr>\n",
       "    <tr>\n",
       "      <th>112454</th>\n",
       "      <td>N100</td>\n",
       "      <td>2021-05-31</td>\n",
       "      <td>1256.079956</td>\n",
       "      <td>1258.880005</td>\n",
       "      <td>1248.140015</td>\n",
       "      <td>1248.930054</td>\n",
       "      <td>1248.930054</td>\n",
       "      <td>91173700.0</td>\n",
       "    </tr>\n",
       "    <tr>\n",
       "      <th>112455</th>\n",
       "      <td>N100</td>\n",
       "      <td>2021-06-01</td>\n",
       "      <td>1254.609985</td>\n",
       "      <td>1265.660034</td>\n",
       "      <td>1254.609985</td>\n",
       "      <td>1258.579956</td>\n",
       "      <td>1258.579956</td>\n",
       "      <td>155179900.0</td>\n",
       "    </tr>\n",
       "    <tr>\n",
       "      <th>112456</th>\n",
       "      <td>N100</td>\n",
       "      <td>2021-06-02</td>\n",
       "      <td>1258.489990</td>\n",
       "      <td>1263.709961</td>\n",
       "      <td>1258.239990</td>\n",
       "      <td>1263.619995</td>\n",
       "      <td>1263.619995</td>\n",
       "      <td>148465000.0</td>\n",
       "    </tr>\n",
       "  </tbody>\n",
       "</table>\n",
       "<p>112457 rows × 8 columns</p>\n",
       "</div>"
      ],
      "text/plain": [
       "       Index        Date         Open  ...        Close    Adj Close       Volume\n",
       "0        NYA  1965-12-31   528.690002  ...   528.690002   528.690002          0.0\n",
       "1        NYA  1966-01-03   527.210022  ...   527.210022   527.210022          0.0\n",
       "2        NYA  1966-01-04   527.840027  ...   527.840027   527.840027          0.0\n",
       "3        NYA  1966-01-05   531.119995  ...   531.119995   531.119995          0.0\n",
       "4        NYA  1966-01-06   532.070007  ...   532.070007   532.070007          0.0\n",
       "...      ...         ...          ...  ...          ...          ...          ...\n",
       "112452  N100  2021-05-27  1241.119995  ...  1247.069946  1247.069946  379696400.0\n",
       "112453  N100  2021-05-28  1249.469971  ...  1256.599976  1256.599976  160773400.0\n",
       "112454  N100  2021-05-31  1256.079956  ...  1248.930054  1248.930054   91173700.0\n",
       "112455  N100  2021-06-01  1254.609985  ...  1258.579956  1258.579956  155179900.0\n",
       "112456  N100  2021-06-02  1258.489990  ...  1263.619995  1263.619995  148465000.0\n",
       "\n",
       "[112457 rows x 8 columns]"
      ]
     },
     "execution_count": 7,
     "metadata": {},
     "output_type": "execute_result"
    }
   ],
   "source": [
    "import pandas as pd\n",
    "\n",
    "data = pd.read_csv('/content/stock-exchange-data/indexData.csv')\n",
    "data"
   ]
  },
  {
   "cell_type": "code",
   "execution_count": null,
   "metadata": {
    "colab": {
     "base_uri": "https://localhost:8080/",
     "height": 300
    },
    "executionInfo": {
     "elapsed": 537,
     "status": "ok",
     "timestamp": 1635830940540,
     "user": {
      "displayName": "19BCP008_ Amit Hirpara",
      "photoUrl": "https://lh3.googleusercontent.com/a/default-user=s64",
      "userId": "17377830786468711401"
     },
     "user_tz": -330
    },
    "id": "E0Dy3sOnHyLO",
    "outputId": "7b055968-5217-4c05-b7c5-0d5db08b5cc6"
   },
   "outputs": [
    {
     "data": {
      "text/html": [
       "<div>\n",
       "<style scoped>\n",
       "    .dataframe tbody tr th:only-of-type {\n",
       "        vertical-align: middle;\n",
       "    }\n",
       "\n",
       "    .dataframe tbody tr th {\n",
       "        vertical-align: top;\n",
       "    }\n",
       "\n",
       "    .dataframe thead th {\n",
       "        text-align: right;\n",
       "    }\n",
       "</style>\n",
       "<table border=\"1\" class=\"dataframe\">\n",
       "  <thead>\n",
       "    <tr style=\"text-align: right;\">\n",
       "      <th></th>\n",
       "      <th>Open</th>\n",
       "      <th>High</th>\n",
       "      <th>Low</th>\n",
       "      <th>Close</th>\n",
       "      <th>Adj Close</th>\n",
       "      <th>Volume</th>\n",
       "    </tr>\n",
       "  </thead>\n",
       "  <tbody>\n",
       "    <tr>\n",
       "      <th>count</th>\n",
       "      <td>110253.000000</td>\n",
       "      <td>110253.000000</td>\n",
       "      <td>110253.000000</td>\n",
       "      <td>110253.000000</td>\n",
       "      <td>110253.000000</td>\n",
       "      <td>1.102530e+05</td>\n",
       "    </tr>\n",
       "    <tr>\n",
       "      <th>mean</th>\n",
       "      <td>7658.515222</td>\n",
       "      <td>7704.372961</td>\n",
       "      <td>7608.000422</td>\n",
       "      <td>7657.545872</td>\n",
       "      <td>7657.351729</td>\n",
       "      <td>1.273975e+09</td>\n",
       "    </tr>\n",
       "    <tr>\n",
       "      <th>std</th>\n",
       "      <td>9011.478913</td>\n",
       "      <td>9066.638548</td>\n",
       "      <td>8954.506981</td>\n",
       "      <td>9011.510444</td>\n",
       "      <td>9011.608900</td>\n",
       "      <td>4.315783e+09</td>\n",
       "    </tr>\n",
       "    <tr>\n",
       "      <th>min</th>\n",
       "      <td>54.869999</td>\n",
       "      <td>54.869999</td>\n",
       "      <td>54.869999</td>\n",
       "      <td>54.869999</td>\n",
       "      <td>54.869999</td>\n",
       "      <td>0.000000e+00</td>\n",
       "    </tr>\n",
       "    <tr>\n",
       "      <th>25%</th>\n",
       "      <td>1855.030029</td>\n",
       "      <td>1864.510010</td>\n",
       "      <td>1843.979980</td>\n",
       "      <td>1855.060059</td>\n",
       "      <td>1854.179565</td>\n",
       "      <td>0.000000e+00</td>\n",
       "    </tr>\n",
       "    <tr>\n",
       "      <th>50%</th>\n",
       "      <td>5194.089844</td>\n",
       "      <td>5226.279785</td>\n",
       "      <td>5154.049805</td>\n",
       "      <td>5194.750000</td>\n",
       "      <td>5194.750000</td>\n",
       "      <td>4.329000e+05</td>\n",
       "    </tr>\n",
       "    <tr>\n",
       "      <th>75%</th>\n",
       "      <td>10134.299810</td>\n",
       "      <td>10207.820310</td>\n",
       "      <td>10060.349610</td>\n",
       "      <td>10134.830080</td>\n",
       "      <td>10134.830080</td>\n",
       "      <td>1.734314e+08</td>\n",
       "    </tr>\n",
       "    <tr>\n",
       "      <th>max</th>\n",
       "      <td>68775.062500</td>\n",
       "      <td>69403.750000</td>\n",
       "      <td>68516.992190</td>\n",
       "      <td>68775.062500</td>\n",
       "      <td>68775.062500</td>\n",
       "      <td>9.440374e+10</td>\n",
       "    </tr>\n",
       "  </tbody>\n",
       "</table>\n",
       "</div>"
      ],
      "text/plain": [
       "                Open           High  ...      Adj Close        Volume\n",
       "count  110253.000000  110253.000000  ...  110253.000000  1.102530e+05\n",
       "mean     7658.515222    7704.372961  ...    7657.351729  1.273975e+09\n",
       "std      9011.478913    9066.638548  ...    9011.608900  4.315783e+09\n",
       "min        54.869999      54.869999  ...      54.869999  0.000000e+00\n",
       "25%      1855.030029    1864.510010  ...    1854.179565  0.000000e+00\n",
       "50%      5194.089844    5226.279785  ...    5194.750000  4.329000e+05\n",
       "75%     10134.299810   10207.820310  ...   10134.830080  1.734314e+08\n",
       "max     68775.062500   69403.750000  ...   68775.062500  9.440374e+10\n",
       "\n",
       "[8 rows x 6 columns]"
      ]
     },
     "execution_count": 8,
     "metadata": {},
     "output_type": "execute_result"
    }
   ],
   "source": [
    "data.describe()"
   ]
  },
  {
   "cell_type": "code",
   "execution_count": null,
   "metadata": {
    "colab": {
     "base_uri": "https://localhost:8080/"
    },
    "executionInfo": {
     "elapsed": 513,
     "status": "ok",
     "timestamp": 1635830953575,
     "user": {
      "displayName": "19BCP008_ Amit Hirpara",
      "photoUrl": "https://lh3.googleusercontent.com/a/default-user=s64",
      "userId": "17377830786468711401"
     },
     "user_tz": -330
    },
    "id": "fliKzp14H0z4",
    "outputId": "59d7dd53-1959-4870-c442-25f8791ee3e5"
   },
   "outputs": [
    {
     "data": {
      "text/plain": [
       "Index           0\n",
       "Date            0\n",
       "Open         2204\n",
       "High         2204\n",
       "Low          2204\n",
       "Close        2204\n",
       "Adj Close    2204\n",
       "Volume       2204\n",
       "dtype: int64"
      ]
     },
     "execution_count": 9,
     "metadata": {},
     "output_type": "execute_result"
    }
   ],
   "source": [
    "data.isna().sum()"
   ]
  },
  {
   "cell_type": "markdown",
   "metadata": {
    "id": "uP1r6mVjH37h"
   },
   "source": [
    "Here we can see that there is some null values in dataset. This data is about stock prices, so that we can't impute the empty cells. So that I am going to drop those rows which have null values in their cells."
   ]
  },
  {
   "cell_type": "code",
   "execution_count": null,
   "metadata": {
    "id": "7sMdawrUH6R2"
   },
   "outputs": [],
   "source": [
    "data.dropna(subset=['Open'], inplace=True)"
   ]
  },
  {
   "cell_type": "code",
   "execution_count": null,
   "metadata": {
    "colab": {
     "base_uri": "https://localhost:8080/"
    },
    "executionInfo": {
     "elapsed": 472,
     "status": "ok",
     "timestamp": 1635830982721,
     "user": {
      "displayName": "19BCP008_ Amit Hirpara",
      "photoUrl": "https://lh3.googleusercontent.com/a/default-user=s64",
      "userId": "17377830786468711401"
     },
     "user_tz": -330
    },
    "id": "ROXNrpneH8qJ",
    "outputId": "df0dba02-e4b5-448b-f2ca-cd81fa75175a"
   },
   "outputs": [
    {
     "data": {
      "text/plain": [
       "(Index        0\n",
       " Date         0\n",
       " Open         0\n",
       " High         0\n",
       " Low          0\n",
       " Close        0\n",
       " Adj Close    0\n",
       " Volume       0\n",
       " dtype: int64, (110253, 8))"
      ]
     },
     "execution_count": 11,
     "metadata": {},
     "output_type": "execute_result"
    }
   ],
   "source": [
    "data.isna().sum(), data.shape"
   ]
  },
  {
   "cell_type": "markdown",
   "metadata": {
    "id": "UL1TkeaxH_SW"
   },
   "source": [
    "So after droping some rows we also have sufficient data for our models."
   ]
  },
  {
   "cell_type": "markdown",
   "metadata": {
    "id": "YXbqwvgzIDzI"
   },
   "source": [
    "# Exploratory Data Analysis"
   ]
  },
  {
   "cell_type": "code",
   "execution_count": null,
   "metadata": {
    "id": "sTZ0r8gdIEji"
   },
   "outputs": [],
   "source": [
    "import plotly.express as px\n",
    "import matplotlib\n",
    "import matplotlib.pyplot as plt\n",
    "import seaborn as sns\n",
    "%matplotlib inline"
   ]
  },
  {
   "cell_type": "code",
   "execution_count": 77,
   "metadata": {
    "executionInfo": {
     "elapsed": 573,
     "status": "ok",
     "timestamp": 1635834867314,
     "user": {
      "displayName": "19BCP008_ Amit Hirpara",
      "photoUrl": "https://lh3.googleusercontent.com/a/default-user=s64",
      "userId": "17377830786468711401"
     },
     "user_tz": -330
    },
    "id": "RpRhyHsxIG_D"
   },
   "outputs": [],
   "source": [
    "sns.set_style('darkgrid')\n",
    "matplotlib.rcParams['font.size'] = 14\n",
    "matplotlib.rcParams['figure.figsize'] = (5,5)\n",
    "matplotlib.rcParams['figure.facecolor'] = '#00000000'"
   ]
  },
  {
   "cell_type": "code",
   "execution_count": null,
   "metadata": {
    "colab": {
     "base_uri": "https://localhost:8080/",
     "height": 424
    },
    "executionInfo": {
     "elapsed": 485,
     "status": "ok",
     "timestamp": 1635831033435,
     "user": {
      "displayName": "19BCP008_ Amit Hirpara",
      "photoUrl": "https://lh3.googleusercontent.com/a/default-user=s64",
      "userId": "17377830786468711401"
     },
     "user_tz": -330
    },
    "id": "m-tFLK8PIJNP",
    "outputId": "cf4cdf2d-309e-43aa-8722-7b7dac6ff355"
   },
   "outputs": [
    {
     "data": {
      "text/html": [
       "<div>\n",
       "<style scoped>\n",
       "    .dataframe tbody tr th:only-of-type {\n",
       "        vertical-align: middle;\n",
       "    }\n",
       "\n",
       "    .dataframe tbody tr th {\n",
       "        vertical-align: top;\n",
       "    }\n",
       "\n",
       "    .dataframe thead th {\n",
       "        text-align: right;\n",
       "    }\n",
       "</style>\n",
       "<table border=\"1\" class=\"dataframe\">\n",
       "  <thead>\n",
       "    <tr style=\"text-align: right;\">\n",
       "      <th></th>\n",
       "      <th>Index</th>\n",
       "      <th>Date</th>\n",
       "      <th>Open</th>\n",
       "      <th>High</th>\n",
       "      <th>Low</th>\n",
       "      <th>Close</th>\n",
       "      <th>Adj Close</th>\n",
       "      <th>Volume</th>\n",
       "    </tr>\n",
       "  </thead>\n",
       "  <tbody>\n",
       "    <tr>\n",
       "      <th>0</th>\n",
       "      <td>NYA</td>\n",
       "      <td>1965-12-31</td>\n",
       "      <td>528.690002</td>\n",
       "      <td>528.690002</td>\n",
       "      <td>528.690002</td>\n",
       "      <td>528.690002</td>\n",
       "      <td>528.690002</td>\n",
       "      <td>0.0</td>\n",
       "    </tr>\n",
       "    <tr>\n",
       "      <th>1</th>\n",
       "      <td>NYA</td>\n",
       "      <td>1966-01-03</td>\n",
       "      <td>527.210022</td>\n",
       "      <td>527.210022</td>\n",
       "      <td>527.210022</td>\n",
       "      <td>527.210022</td>\n",
       "      <td>527.210022</td>\n",
       "      <td>0.0</td>\n",
       "    </tr>\n",
       "    <tr>\n",
       "      <th>2</th>\n",
       "      <td>NYA</td>\n",
       "      <td>1966-01-04</td>\n",
       "      <td>527.840027</td>\n",
       "      <td>527.840027</td>\n",
       "      <td>527.840027</td>\n",
       "      <td>527.840027</td>\n",
       "      <td>527.840027</td>\n",
       "      <td>0.0</td>\n",
       "    </tr>\n",
       "    <tr>\n",
       "      <th>3</th>\n",
       "      <td>NYA</td>\n",
       "      <td>1966-01-05</td>\n",
       "      <td>531.119995</td>\n",
       "      <td>531.119995</td>\n",
       "      <td>531.119995</td>\n",
       "      <td>531.119995</td>\n",
       "      <td>531.119995</td>\n",
       "      <td>0.0</td>\n",
       "    </tr>\n",
       "    <tr>\n",
       "      <th>4</th>\n",
       "      <td>NYA</td>\n",
       "      <td>1966-01-06</td>\n",
       "      <td>532.070007</td>\n",
       "      <td>532.070007</td>\n",
       "      <td>532.070007</td>\n",
       "      <td>532.070007</td>\n",
       "      <td>532.070007</td>\n",
       "      <td>0.0</td>\n",
       "    </tr>\n",
       "    <tr>\n",
       "      <th>...</th>\n",
       "      <td>...</td>\n",
       "      <td>...</td>\n",
       "      <td>...</td>\n",
       "      <td>...</td>\n",
       "      <td>...</td>\n",
       "      <td>...</td>\n",
       "      <td>...</td>\n",
       "      <td>...</td>\n",
       "    </tr>\n",
       "    <tr>\n",
       "      <th>112452</th>\n",
       "      <td>N100</td>\n",
       "      <td>2021-05-27</td>\n",
       "      <td>1241.119995</td>\n",
       "      <td>1251.910034</td>\n",
       "      <td>1241.119995</td>\n",
       "      <td>1247.069946</td>\n",
       "      <td>1247.069946</td>\n",
       "      <td>379696400.0</td>\n",
       "    </tr>\n",
       "    <tr>\n",
       "      <th>112453</th>\n",
       "      <td>N100</td>\n",
       "      <td>2021-05-28</td>\n",
       "      <td>1249.469971</td>\n",
       "      <td>1259.209961</td>\n",
       "      <td>1249.030029</td>\n",
       "      <td>1256.599976</td>\n",
       "      <td>1256.599976</td>\n",
       "      <td>160773400.0</td>\n",
       "    </tr>\n",
       "    <tr>\n",
       "      <th>112454</th>\n",
       "      <td>N100</td>\n",
       "      <td>2021-05-31</td>\n",
       "      <td>1256.079956</td>\n",
       "      <td>1258.880005</td>\n",
       "      <td>1248.140015</td>\n",
       "      <td>1248.930054</td>\n",
       "      <td>1248.930054</td>\n",
       "      <td>91173700.0</td>\n",
       "    </tr>\n",
       "    <tr>\n",
       "      <th>112455</th>\n",
       "      <td>N100</td>\n",
       "      <td>2021-06-01</td>\n",
       "      <td>1254.609985</td>\n",
       "      <td>1265.660034</td>\n",
       "      <td>1254.609985</td>\n",
       "      <td>1258.579956</td>\n",
       "      <td>1258.579956</td>\n",
       "      <td>155179900.0</td>\n",
       "    </tr>\n",
       "    <tr>\n",
       "      <th>112456</th>\n",
       "      <td>N100</td>\n",
       "      <td>2021-06-02</td>\n",
       "      <td>1258.489990</td>\n",
       "      <td>1263.709961</td>\n",
       "      <td>1258.239990</td>\n",
       "      <td>1263.619995</td>\n",
       "      <td>1263.619995</td>\n",
       "      <td>148465000.0</td>\n",
       "    </tr>\n",
       "  </tbody>\n",
       "</table>\n",
       "<p>110253 rows × 8 columns</p>\n",
       "</div>"
      ],
      "text/plain": [
       "       Index        Date         Open  ...        Close    Adj Close       Volume\n",
       "0        NYA  1965-12-31   528.690002  ...   528.690002   528.690002          0.0\n",
       "1        NYA  1966-01-03   527.210022  ...   527.210022   527.210022          0.0\n",
       "2        NYA  1966-01-04   527.840027  ...   527.840027   527.840027          0.0\n",
       "3        NYA  1966-01-05   531.119995  ...   531.119995   531.119995          0.0\n",
       "4        NYA  1966-01-06   532.070007  ...   532.070007   532.070007          0.0\n",
       "...      ...         ...          ...  ...          ...          ...          ...\n",
       "112452  N100  2021-05-27  1241.119995  ...  1247.069946  1247.069946  379696400.0\n",
       "112453  N100  2021-05-28  1249.469971  ...  1256.599976  1256.599976  160773400.0\n",
       "112454  N100  2021-05-31  1256.079956  ...  1248.930054  1248.930054   91173700.0\n",
       "112455  N100  2021-06-01  1254.609985  ...  1258.579956  1258.579956  155179900.0\n",
       "112456  N100  2021-06-02  1258.489990  ...  1263.619995  1263.619995  148465000.0\n",
       "\n",
       "[110253 rows x 8 columns]"
      ]
     },
     "execution_count": 14,
     "metadata": {},
     "output_type": "execute_result"
    }
   ],
   "source": [
    "data"
   ]
  },
  {
   "cell_type": "code",
   "execution_count": 78,
   "metadata": {
    "colab": {
     "base_uri": "https://localhost:8080/",
     "height": 542,
     "output_embedded_package_id": "1Cx8Xojfh21imLAYVFe9AHkFGqfBWNYIY"
    },
    "executionInfo": {
     "elapsed": 4439,
     "status": "ok",
     "timestamp": 1635834877204,
     "user": {
      "displayName": "19BCP008_ Amit Hirpara",
      "photoUrl": "https://lh3.googleusercontent.com/a/default-user=s64",
      "userId": "17377830786468711401"
     },
     "user_tz": -330
    },
    "id": "m9AH2D3LIMCu",
    "outputId": "f953735f-eb9b-4d1a-c859-0fc4be6350e5"
   },
   "outputs": [
    {
     "data": {
      "text/plain": [
       "Output hidden; open in https://colab.research.google.com to view."
      ]
     },
     "metadata": {},
     "output_type": "display_data"
    }
   ],
   "source": [
    "px.scatter(data,x='Open',y='Close',title='Open vs. Close')"
   ]
  },
  {
   "cell_type": "markdown",
   "metadata": {
    "id": "jvlJOYH2IQF2"
   },
   "source": [
    "From the above graph we easily see the relation between Open and Close price of idexes. There is linear relationship between Open and Close prices."
   ]
  },
  {
   "cell_type": "code",
   "execution_count": 79,
   "metadata": {
    "colab": {
     "base_uri": "https://localhost:8080/",
     "height": 542,
     "output_embedded_package_id": "11SR5f0mCUMouUceQAl49UgsTx1_J75Ng"
    },
    "executionInfo": {
     "elapsed": 6365,
     "status": "ok",
     "timestamp": 1635834889846,
     "user": {
      "displayName": "19BCP008_ Amit Hirpara",
      "photoUrl": "https://lh3.googleusercontent.com/a/default-user=s64",
      "userId": "17377830786468711401"
     },
     "user_tz": -330
    },
    "id": "ok2PBuguISs_",
    "outputId": "656cb96f-8367-46f3-e27e-302728aaa64c"
   },
   "outputs": [
    {
     "data": {
      "text/plain": [
       "Output hidden; open in https://colab.research.google.com to view."
      ]
     },
     "metadata": {},
     "output_type": "display_data"
    }
   ],
   "source": [
    "px.scatter(data,x='High',y='Low',title='High vs. Low')"
   ]
  },
  {
   "cell_type": "markdown",
   "metadata": {
    "id": "tPCrPRipIZzE"
   },
   "source": [
    "Same graph as we got earlier."
   ]
  },
  {
   "cell_type": "code",
   "execution_count": 80,
   "metadata": {
    "colab": {
     "base_uri": "https://localhost:8080/",
     "height": 542,
     "output_embedded_package_id": "10j_H9skW3QqXVVbFVD6htqczaLZ_TBoX"
    },
    "executionInfo": {
     "elapsed": 6931,
     "status": "ok",
     "timestamp": 1635834902609,
     "user": {
      "displayName": "19BCP008_ Amit Hirpara",
      "photoUrl": "https://lh3.googleusercontent.com/a/default-user=s64",
      "userId": "17377830786468711401"
     },
     "user_tz": -330
    },
    "id": "DdlNRNgHIbp3",
    "outputId": "7fb5b84f-e955-4b70-fd81-becf6fb80cd9"
   },
   "outputs": [
    {
     "data": {
      "text/plain": [
       "Output hidden; open in https://colab.research.google.com to view."
      ]
     },
     "metadata": {},
     "output_type": "display_data"
    }
   ],
   "source": [
    "px.scatter(data,x='Date',y='Close',title='Date vs. Close')"
   ]
  },
  {
   "cell_type": "markdown",
   "metadata": {
    "id": "2AHbhHwYIgs0"
   },
   "source": [
    "Above graph shows that as the time goes the price value of indexes is increases, but not linearly."
   ]
  },
  {
   "cell_type": "code",
   "execution_count": null,
   "metadata": {
    "colab": {
     "base_uri": "https://localhost:8080/",
     "height": 90
    },
    "executionInfo": {
     "elapsed": 3790,
     "status": "ok",
     "timestamp": 1635831157047,
     "user": {
      "displayName": "19BCP008_ Amit Hirpara",
      "photoUrl": "https://lh3.googleusercontent.com/a/default-user=s64",
      "userId": "17377830786468711401"
     },
     "user_tz": -330
    },
    "id": "HYkmgaDlIheu",
    "outputId": "dbc69060-105e-4f71-ec90-9861f30d99bb"
   },
   "outputs": [
    {
     "name": "stdout",
     "output_type": "stream",
     "text": [
      "[jovian] Detected Colab notebook...\u001b[0m\n",
      "[jovian] Uploading colab notebook to Jovian...\u001b[0m\n",
      "Committed successfully! https://jovian.ai/hirparaamit43/course-project\n"
     ]
    },
    {
     "data": {
      "application/vnd.google.colaboratory.intrinsic+json": {
       "type": "string"
      },
      "text/plain": [
       "'https://jovian.ai/hirparaamit43/course-project'"
      ]
     },
     "execution_count": 18,
     "metadata": {},
     "output_type": "execute_result"
    }
   ],
   "source": [
    "# Execute this to save new versions of the notebook\n",
    "jovian.commit(project=\"course-project\")"
   ]
  },
  {
   "cell_type": "markdown",
   "metadata": {
    "id": "8frR6AemIq_-"
   },
   "source": [
    "# Train and Validation dataframe"
   ]
  },
  {
   "cell_type": "markdown",
   "metadata": {
    "id": "qX4SetawIzDB"
   },
   "source": [
    "Here we are working with stock market dataset, so we have to also deal with date. Because of that I am going to split train and validation dataset using date field."
   ]
  },
  {
   "cell_type": "code",
   "execution_count": null,
   "metadata": {
    "colab": {
     "base_uri": "https://localhost:8080/"
    },
    "executionInfo": {
     "elapsed": 508,
     "status": "ok",
     "timestamp": 1635832139042,
     "user": {
      "displayName": "19BCP008_ Amit Hirpara",
      "photoUrl": "https://lh3.googleusercontent.com/a/default-user=s64",
      "userId": "17377830786468711401"
     },
     "user_tz": -330
    },
    "id": "AdgyDYzvLSOI",
    "outputId": "f04be15e-939e-4935-d3e6-a8860b1b72a0"
   },
   "outputs": [
    {
     "name": "stdout",
     "output_type": "stream",
     "text": [
      "(71117, 8)\n",
      "(39136, 8)\n"
     ]
    }
   ],
   "source": [
    "year = pd.to_datetime(data.Date).dt.year\n",
    "\n",
    "train_df = data[year<2010]\n",
    "val_df = data[year>=2010]\n",
    "\n",
    "print(train_df.shape)\n",
    "print(val_df.shape)"
   ]
  },
  {
   "cell_type": "markdown",
   "metadata": {
    "id": "GX-W94dXMhsl"
   },
   "source": [
    "# Input and Target Columns"
   ]
  },
  {
   "cell_type": "code",
   "execution_count": null,
   "metadata": {
    "colab": {
     "background_save": true,
     "base_uri": "https://localhost:8080/",
     "height": 830
    },
    "executionInfo": {
     "elapsed": 8,
     "status": "ok",
     "timestamp": 1635832234710,
     "user": {
      "displayName": "19BCP008_ Amit Hirpara",
      "photoUrl": "https://lh3.googleusercontent.com/a/default-user=s64",
      "userId": "17377830786468711401"
     },
     "user_tz": -330
    },
    "id": "KqVAIL3mMnSw",
    "outputId": "ea02e7c8-8b2d-4db7-97a4-616f23b1cace"
   },
   "outputs": [
    {
     "data": {
      "text/html": [
       "<div>\n",
       "<style scoped>\n",
       "    .dataframe tbody tr th:only-of-type {\n",
       "        vertical-align: middle;\n",
       "    }\n",
       "\n",
       "    .dataframe tbody tr th {\n",
       "        vertical-align: top;\n",
       "    }\n",
       "\n",
       "    .dataframe thead th {\n",
       "        text-align: right;\n",
       "    }\n",
       "</style>\n",
       "<table border=\"1\" class=\"dataframe\">\n",
       "  <thead>\n",
       "    <tr style=\"text-align: right;\">\n",
       "      <th></th>\n",
       "      <th>Index</th>\n",
       "      <th>Date</th>\n",
       "      <th>Open</th>\n",
       "      <th>High</th>\n",
       "      <th>Low</th>\n",
       "      <th>Close</th>\n",
       "      <th>Adj Close</th>\n",
       "      <th>Volume</th>\n",
       "    </tr>\n",
       "  </thead>\n",
       "  <tbody>\n",
       "    <tr>\n",
       "      <th>0</th>\n",
       "      <td>NYA</td>\n",
       "      <td>1965-12-31</td>\n",
       "      <td>528.690002</td>\n",
       "      <td>528.690002</td>\n",
       "      <td>528.690002</td>\n",
       "      <td>528.690002</td>\n",
       "      <td>528.690002</td>\n",
       "      <td>0.0</td>\n",
       "    </tr>\n",
       "    <tr>\n",
       "      <th>1</th>\n",
       "      <td>NYA</td>\n",
       "      <td>1966-01-03</td>\n",
       "      <td>527.210022</td>\n",
       "      <td>527.210022</td>\n",
       "      <td>527.210022</td>\n",
       "      <td>527.210022</td>\n",
       "      <td>527.210022</td>\n",
       "      <td>0.0</td>\n",
       "    </tr>\n",
       "    <tr>\n",
       "      <th>2</th>\n",
       "      <td>NYA</td>\n",
       "      <td>1966-01-04</td>\n",
       "      <td>527.840027</td>\n",
       "      <td>527.840027</td>\n",
       "      <td>527.840027</td>\n",
       "      <td>527.840027</td>\n",
       "      <td>527.840027</td>\n",
       "      <td>0.0</td>\n",
       "    </tr>\n",
       "    <tr>\n",
       "      <th>3</th>\n",
       "      <td>NYA</td>\n",
       "      <td>1966-01-05</td>\n",
       "      <td>531.119995</td>\n",
       "      <td>531.119995</td>\n",
       "      <td>531.119995</td>\n",
       "      <td>531.119995</td>\n",
       "      <td>531.119995</td>\n",
       "      <td>0.0</td>\n",
       "    </tr>\n",
       "    <tr>\n",
       "      <th>4</th>\n",
       "      <td>NYA</td>\n",
       "      <td>1966-01-06</td>\n",
       "      <td>532.070007</td>\n",
       "      <td>532.070007</td>\n",
       "      <td>532.070007</td>\n",
       "      <td>532.070007</td>\n",
       "      <td>532.070007</td>\n",
       "      <td>0.0</td>\n",
       "    </tr>\n",
       "    <tr>\n",
       "      <th>...</th>\n",
       "      <td>...</td>\n",
       "      <td>...</td>\n",
       "      <td>...</td>\n",
       "      <td>...</td>\n",
       "      <td>...</td>\n",
       "      <td>...</td>\n",
       "      <td>...</td>\n",
       "      <td>...</td>\n",
       "    </tr>\n",
       "    <tr>\n",
       "      <th>109533</th>\n",
       "      <td>N100</td>\n",
       "      <td>2009-12-24</td>\n",
       "      <td>679.609985</td>\n",
       "      <td>680.590027</td>\n",
       "      <td>678.789978</td>\n",
       "      <td>679.340027</td>\n",
       "      <td>679.340027</td>\n",
       "      <td>40077000.0</td>\n",
       "    </tr>\n",
       "    <tr>\n",
       "      <th>109534</th>\n",
       "      <td>N100</td>\n",
       "      <td>2009-12-28</td>\n",
       "      <td>683.280029</td>\n",
       "      <td>685.260010</td>\n",
       "      <td>682.710022</td>\n",
       "      <td>684.559998</td>\n",
       "      <td>684.559998</td>\n",
       "      <td>0.0</td>\n",
       "    </tr>\n",
       "    <tr>\n",
       "      <th>109535</th>\n",
       "      <td>N100</td>\n",
       "      <td>2009-12-29</td>\n",
       "      <td>686.109985</td>\n",
       "      <td>689.830017</td>\n",
       "      <td>685.280029</td>\n",
       "      <td>687.890015</td>\n",
       "      <td>687.890015</td>\n",
       "      <td>131860500.0</td>\n",
       "    </tr>\n",
       "    <tr>\n",
       "      <th>109536</th>\n",
       "      <td>N100</td>\n",
       "      <td>2009-12-30</td>\n",
       "      <td>686.549988</td>\n",
       "      <td>688.530029</td>\n",
       "      <td>682.750000</td>\n",
       "      <td>683.760010</td>\n",
       "      <td>683.760010</td>\n",
       "      <td>131415800.0</td>\n",
       "    </tr>\n",
       "    <tr>\n",
       "      <th>109537</th>\n",
       "      <td>N100</td>\n",
       "      <td>2009-12-31</td>\n",
       "      <td>686.820007</td>\n",
       "      <td>687.210022</td>\n",
       "      <td>683.760010</td>\n",
       "      <td>683.760010</td>\n",
       "      <td>683.760010</td>\n",
       "      <td>61050400.0</td>\n",
       "    </tr>\n",
       "  </tbody>\n",
       "</table>\n",
       "<p>71117 rows × 8 columns</p>\n",
       "</div>"
      ],
      "text/plain": [
       "       Index        Date        Open  ...       Close   Adj Close       Volume\n",
       "0        NYA  1965-12-31  528.690002  ...  528.690002  528.690002          0.0\n",
       "1        NYA  1966-01-03  527.210022  ...  527.210022  527.210022          0.0\n",
       "2        NYA  1966-01-04  527.840027  ...  527.840027  527.840027          0.0\n",
       "3        NYA  1966-01-05  531.119995  ...  531.119995  531.119995          0.0\n",
       "4        NYA  1966-01-06  532.070007  ...  532.070007  532.070007          0.0\n",
       "...      ...         ...         ...  ...         ...         ...          ...\n",
       "109533  N100  2009-12-24  679.609985  ...  679.340027  679.340027   40077000.0\n",
       "109534  N100  2009-12-28  683.280029  ...  684.559998  684.559998          0.0\n",
       "109535  N100  2009-12-29  686.109985  ...  687.890015  687.890015  131860500.0\n",
       "109536  N100  2009-12-30  686.549988  ...  683.760010  683.760010  131415800.0\n",
       "109537  N100  2009-12-31  686.820007  ...  683.760010  683.760010   61050400.0\n",
       "\n",
       "[71117 rows x 8 columns]"
      ]
     },
     "execution_count": null,
     "metadata": {},
     "output_type": "execute_result"
    }
   ],
   "source": [
    "train_df"
   ]
  },
  {
   "cell_type": "code",
   "execution_count": 46,
   "metadata": {
    "colab": {
     "base_uri": "https://localhost:8080/"
    },
    "executionInfo": {
     "elapsed": 500,
     "status": "ok",
     "timestamp": 1635832854913,
     "user": {
      "displayName": "19BCP008_ Amit Hirpara",
      "photoUrl": "https://lh3.googleusercontent.com/a/default-user=s64",
      "userId": "17377830786468711401"
     },
     "user_tz": -330
    },
    "id": "dvt6l-WhMqLh",
    "outputId": "6598faf4-ecf7-4b11-8b08-933624141322"
   },
   "outputs": [
    {
     "data": {
      "text/plain": [
       "((71117, 5), (71117,))"
      ]
     },
     "execution_count": 46,
     "metadata": {},
     "output_type": "execute_result"
    }
   ],
   "source": [
    "input_cols = ['Index','Open','High','Low','Volume']\n",
    "target_col = 'Close'\n",
    "\n",
    "train_inputs = train_df[input_cols].copy()\n",
    "train_targets = train_df[target_col].copy()\n",
    "val_inputs = val_df[input_cols].copy()\n",
    "val_targets = val_df[target_col].copy()\n",
    "\n",
    "train_inputs.shape, train_targets.shape"
   ]
  },
  {
   "cell_type": "code",
   "execution_count": 48,
   "metadata": {
    "colab": {
     "base_uri": "https://localhost:8080/"
    },
    "executionInfo": {
     "elapsed": 492,
     "status": "ok",
     "timestamp": 1635832927097,
     "user": {
      "displayName": "19BCP008_ Amit Hirpara",
      "photoUrl": "https://lh3.googleusercontent.com/a/default-user=s64",
      "userId": "17377830786468711401"
     },
     "user_tz": -330
    },
    "id": "1DIWqeTVPJf0",
    "outputId": "c0661399-9eaa-4877-c88e-da7bab4639a1"
   },
   "outputs": [
    {
     "data": {
      "text/plain": [
       "Index      object\n",
       "Open      float64\n",
       "High      float64\n",
       "Low       float64\n",
       "Volume    float64\n",
       "dtype: object"
      ]
     },
     "execution_count": 48,
     "metadata": {},
     "output_type": "execute_result"
    }
   ],
   "source": [
    "train_inputs.dtypes"
   ]
  },
  {
   "cell_type": "markdown",
   "metadata": {
    "id": "G1696gUqPgrm"
   },
   "source": [
    "Now we are going to separate numeric and categorical columns from train_inputs."
   ]
  },
  {
   "cell_type": "code",
   "execution_count": 50,
   "metadata": {
    "colab": {
     "base_uri": "https://localhost:8080/"
    },
    "executionInfo": {
     "elapsed": 503,
     "status": "ok",
     "timestamp": 1635833021560,
     "user": {
      "displayName": "19BCP008_ Amit Hirpara",
      "photoUrl": "https://lh3.googleusercontent.com/a/default-user=s64",
      "userId": "17377830786468711401"
     },
     "user_tz": -330
    },
    "id": "6QDX4VsvPdPc",
    "outputId": "53fa1276-01b1-4aba-b361-92673402aa16"
   },
   "outputs": [
    {
     "name": "stdout",
     "output_type": "stream",
     "text": [
      "['Open', 'High', 'Low', 'Volume']\n",
      "['Index']\n"
     ]
    }
   ],
   "source": [
    "import numpy as np\n",
    "\n",
    "numeric_cols = train_inputs.select_dtypes(include=np.number).columns.tolist()\n",
    "categorical_cols = train_inputs.select_dtypes('object').columns.tolist()\n",
    "\n",
    "print(numeric_cols)\n",
    "print(categorical_cols)"
   ]
  },
  {
   "cell_type": "code",
   "execution_count": 51,
   "metadata": {
    "colab": {
     "base_uri": "https://localhost:8080/",
     "height": 237
    },
    "executionInfo": {
     "elapsed": 521,
     "status": "ok",
     "timestamp": 1635833046699,
     "user": {
      "displayName": "19BCP008_ Amit Hirpara",
      "photoUrl": "https://lh3.googleusercontent.com/a/default-user=s64",
      "userId": "17377830786468711401"
     },
     "user_tz": -330
    },
    "id": "OkD00lcuP0fM",
    "outputId": "80ac19b3-4f00-4944-ac51-b70ae6c0c22c"
   },
   "outputs": [
    {
     "data": {
      "text/html": [
       "<div>\n",
       "<style scoped>\n",
       "    .dataframe tbody tr th:only-of-type {\n",
       "        vertical-align: middle;\n",
       "    }\n",
       "\n",
       "    .dataframe tbody tr th {\n",
       "        vertical-align: top;\n",
       "    }\n",
       "\n",
       "    .dataframe thead th {\n",
       "        text-align: right;\n",
       "    }\n",
       "</style>\n",
       "<table border=\"1\" class=\"dataframe\">\n",
       "  <thead>\n",
       "    <tr style=\"text-align: right;\">\n",
       "      <th></th>\n",
       "      <th>Open</th>\n",
       "      <th>High</th>\n",
       "      <th>Low</th>\n",
       "      <th>Close</th>\n",
       "      <th>Adj Close</th>\n",
       "      <th>Volume</th>\n",
       "    </tr>\n",
       "  </thead>\n",
       "  <tbody>\n",
       "    <tr>\n",
       "      <th>Open</th>\n",
       "      <td>1.000000</td>\n",
       "      <td>0.999959</td>\n",
       "      <td>0.999944</td>\n",
       "      <td>0.999907</td>\n",
       "      <td>0.999907</td>\n",
       "      <td>0.138673</td>\n",
       "    </tr>\n",
       "    <tr>\n",
       "      <th>High</th>\n",
       "      <td>0.999959</td>\n",
       "      <td>1.000000</td>\n",
       "      <td>0.999931</td>\n",
       "      <td>0.999955</td>\n",
       "      <td>0.999955</td>\n",
       "      <td>0.138510</td>\n",
       "    </tr>\n",
       "    <tr>\n",
       "      <th>Low</th>\n",
       "      <td>0.999944</td>\n",
       "      <td>0.999931</td>\n",
       "      <td>1.000000</td>\n",
       "      <td>0.999960</td>\n",
       "      <td>0.999960</td>\n",
       "      <td>0.138549</td>\n",
       "    </tr>\n",
       "    <tr>\n",
       "      <th>Close</th>\n",
       "      <td>0.999907</td>\n",
       "      <td>0.999955</td>\n",
       "      <td>0.999960</td>\n",
       "      <td>1.000000</td>\n",
       "      <td>1.000000</td>\n",
       "      <td>0.138555</td>\n",
       "    </tr>\n",
       "    <tr>\n",
       "      <th>Adj Close</th>\n",
       "      <td>0.999907</td>\n",
       "      <td>0.999955</td>\n",
       "      <td>0.999960</td>\n",
       "      <td>1.000000</td>\n",
       "      <td>1.000000</td>\n",
       "      <td>0.138560</td>\n",
       "    </tr>\n",
       "    <tr>\n",
       "      <th>Volume</th>\n",
       "      <td>0.138673</td>\n",
       "      <td>0.138510</td>\n",
       "      <td>0.138549</td>\n",
       "      <td>0.138555</td>\n",
       "      <td>0.138560</td>\n",
       "      <td>1.000000</td>\n",
       "    </tr>\n",
       "  </tbody>\n",
       "</table>\n",
       "</div>"
      ],
      "text/plain": [
       "               Open      High       Low     Close  Adj Close    Volume\n",
       "Open       1.000000  0.999959  0.999944  0.999907   0.999907  0.138673\n",
       "High       0.999959  1.000000  0.999931  0.999955   0.999955  0.138510\n",
       "Low        0.999944  0.999931  1.000000  0.999960   0.999960  0.138549\n",
       "Close      0.999907  0.999955  0.999960  1.000000   1.000000  0.138555\n",
       "Adj Close  0.999907  0.999955  0.999960  1.000000   1.000000  0.138560\n",
       "Volume     0.138673  0.138510  0.138549  0.138555   0.138560  1.000000"
      ]
     },
     "execution_count": 51,
     "metadata": {},
     "output_type": "execute_result"
    }
   ],
   "source": [
    "data.corr()"
   ]
  },
  {
   "cell_type": "code",
   "execution_count": 53,
   "metadata": {
    "colab": {
     "base_uri": "https://localhost:8080/"
    },
    "executionInfo": {
     "elapsed": 487,
     "status": "ok",
     "timestamp": 1635833211953,
     "user": {
      "displayName": "19BCP008_ Amit Hirpara",
      "photoUrl": "https://lh3.googleusercontent.com/a/default-user=s64",
      "userId": "17377830786468711401"
     },
     "user_tz": -330
    },
    "id": "rrd7cixAQZmi",
    "outputId": "1485dac5-6420-4f76-b89c-1a1653d37905"
   },
   "outputs": [
    {
     "data": {
      "text/plain": [
       "Index     0\n",
       "Open      0\n",
       "High      0\n",
       "Low       0\n",
       "Volume    0\n",
       "dtype: int64"
      ]
     },
     "execution_count": 53,
     "metadata": {},
     "output_type": "execute_result"
    }
   ],
   "source": [
    "train_inputs.isna().sum()"
   ]
  },
  {
   "cell_type": "markdown",
   "metadata": {
    "id": "0DXIboF1QFQP"
   },
   "source": [
    "We already drop those rows which have null values in their cells so that we don't need to impute our input dataset."
   ]
  },
  {
   "cell_type": "markdown",
   "metadata": {
    "id": "pOSKa16xQOgL"
   },
   "source": [
    "# Scale Numeric Features"
   ]
  },
  {
   "cell_type": "code",
   "execution_count": 55,
   "metadata": {
    "executionInfo": {
     "elapsed": 483,
     "status": "ok",
     "timestamp": 1635833315583,
     "user": {
      "displayName": "19BCP008_ Amit Hirpara",
      "photoUrl": "https://lh3.googleusercontent.com/a/default-user=s64",
      "userId": "17377830786468711401"
     },
     "user_tz": -330
    },
    "id": "zJDskIV3Qldz"
   },
   "outputs": [],
   "source": [
    "from sklearn.preprocessing import MinMaxScaler\n",
    "\n",
    "scaler = MinMaxScaler().fit(data[numeric_cols])\n",
    "\n",
    "train_inputs[numeric_cols] = scaler.transform(train_inputs[numeric_cols])\n",
    "val_inputs[numeric_cols] = scaler.transform(val_inputs[numeric_cols]) "
   ]
  },
  {
   "cell_type": "code",
   "execution_count": 57,
   "metadata": {
    "colab": {
     "base_uri": "https://localhost:8080/",
     "height": 112
    },
    "executionInfo": {
     "elapsed": 529,
     "status": "ok",
     "timestamp": 1635833344385,
     "user": {
      "displayName": "19BCP008_ Amit Hirpara",
      "photoUrl": "https://lh3.googleusercontent.com/a/default-user=s64",
      "userId": "17377830786468711401"
     },
     "user_tz": -330
    },
    "id": "HnLdsqHuQ48I",
    "outputId": "d9aa114d-a68c-442e-923c-00f500c20c68"
   },
   "outputs": [
    {
     "data": {
      "text/html": [
       "<div>\n",
       "<style scoped>\n",
       "    .dataframe tbody tr th:only-of-type {\n",
       "        vertical-align: middle;\n",
       "    }\n",
       "\n",
       "    .dataframe tbody tr th {\n",
       "        vertical-align: top;\n",
       "    }\n",
       "\n",
       "    .dataframe thead th {\n",
       "        text-align: right;\n",
       "    }\n",
       "</style>\n",
       "<table border=\"1\" class=\"dataframe\">\n",
       "  <thead>\n",
       "    <tr style=\"text-align: right;\">\n",
       "      <th></th>\n",
       "      <th>Open</th>\n",
       "      <th>High</th>\n",
       "      <th>Low</th>\n",
       "      <th>Volume</th>\n",
       "    </tr>\n",
       "  </thead>\n",
       "  <tbody>\n",
       "    <tr>\n",
       "      <th>min</th>\n",
       "      <td>0.00000</td>\n",
       "      <td>0.000000</td>\n",
       "      <td>0.00000</td>\n",
       "      <td>0.00000</td>\n",
       "    </tr>\n",
       "    <tr>\n",
       "      <th>max</th>\n",
       "      <td>0.56558</td>\n",
       "      <td>0.560969</td>\n",
       "      <td>0.56634</td>\n",
       "      <td>0.63531</td>\n",
       "    </tr>\n",
       "  </tbody>\n",
       "</table>\n",
       "</div>"
      ],
      "text/plain": [
       "        Open      High      Low   Volume\n",
       "min  0.00000  0.000000  0.00000  0.00000\n",
       "max  0.56558  0.560969  0.56634  0.63531"
      ]
     },
     "execution_count": 57,
     "metadata": {},
     "output_type": "execute_result"
    }
   ],
   "source": [
    "train_inputs.describe().loc[['min','max']]"
   ]
  },
  {
   "cell_type": "markdown",
   "metadata": {
    "id": "TtfePH_iRCi2"
   },
   "source": [
    "# Encoding Categorical Data"
   ]
  },
  {
   "cell_type": "code",
   "execution_count": 58,
   "metadata": {
    "executionInfo": {
     "elapsed": 523,
     "status": "ok",
     "timestamp": 1635833481764,
     "user": {
      "displayName": "19BCP008_ Amit Hirpara",
      "photoUrl": "https://lh3.googleusercontent.com/a/default-user=s64",
      "userId": "17377830786468711401"
     },
     "user_tz": -330
    },
    "id": "iff2w_ezRFkn"
   },
   "outputs": [],
   "source": [
    "from sklearn.preprocessing import OneHotEncoder\n",
    "\n",
    "encoder = OneHotEncoder(sparse=False,handle_unknown='ignore').fit(data[categorical_cols])\n",
    "\n",
    "encoded_cols = list(encoder.get_feature_names(categorical_cols))\n",
    "\n",
    "train_inputs[encoded_cols] = encoder.transform(train_inputs[categorical_cols])\n",
    "val_inputs[encoded_cols] = encoder.transform(val_inputs[categorical_cols])"
   ]
  },
  {
   "cell_type": "code",
   "execution_count": 62,
   "metadata": {
    "colab": {
     "base_uri": "https://localhost:8080/",
     "height": 444
    },
    "executionInfo": {
     "elapsed": 767,
     "status": "ok",
     "timestamp": 1635833562184,
     "user": {
      "displayName": "19BCP008_ Amit Hirpara",
      "photoUrl": "https://lh3.googleusercontent.com/a/default-user=s64",
      "userId": "17377830786468711401"
     },
     "user_tz": -330
    },
    "id": "u5vf8r7hRhPg",
    "outputId": "732a5cff-e390-400c-e293-23c7c4833106"
   },
   "outputs": [
    {
     "data": {
      "text/html": [
       "<div>\n",
       "<style scoped>\n",
       "    .dataframe tbody tr th:only-of-type {\n",
       "        vertical-align: middle;\n",
       "    }\n",
       "\n",
       "    .dataframe tbody tr th {\n",
       "        vertical-align: top;\n",
       "    }\n",
       "\n",
       "    .dataframe thead th {\n",
       "        text-align: right;\n",
       "    }\n",
       "</style>\n",
       "<table border=\"1\" class=\"dataframe\">\n",
       "  <thead>\n",
       "    <tr style=\"text-align: right;\">\n",
       "      <th></th>\n",
       "      <th>Index</th>\n",
       "      <th>Open</th>\n",
       "      <th>High</th>\n",
       "      <th>Low</th>\n",
       "      <th>Volume</th>\n",
       "      <th>Index_000001.SS</th>\n",
       "      <th>Index_399001.SZ</th>\n",
       "      <th>Index_GDAXI</th>\n",
       "      <th>Index_GSPTSE</th>\n",
       "      <th>Index_HSI</th>\n",
       "      <th>Index_IXIC</th>\n",
       "      <th>Index_J203.JO</th>\n",
       "      <th>Index_KS11</th>\n",
       "      <th>Index_N100</th>\n",
       "      <th>Index_N225</th>\n",
       "      <th>Index_NSEI</th>\n",
       "      <th>Index_NYA</th>\n",
       "      <th>Index_SSMI</th>\n",
       "      <th>Index_TWII</th>\n",
       "    </tr>\n",
       "  </thead>\n",
       "  <tbody>\n",
       "    <tr>\n",
       "      <th>0</th>\n",
       "      <td>NYA</td>\n",
       "      <td>0.006895</td>\n",
       "      <td>0.006832</td>\n",
       "      <td>0.006921</td>\n",
       "      <td>0.000000</td>\n",
       "      <td>0.0</td>\n",
       "      <td>0.0</td>\n",
       "      <td>0.0</td>\n",
       "      <td>0.0</td>\n",
       "      <td>0.0</td>\n",
       "      <td>0.0</td>\n",
       "      <td>0.0</td>\n",
       "      <td>0.0</td>\n",
       "      <td>0.0</td>\n",
       "      <td>0.0</td>\n",
       "      <td>0.0</td>\n",
       "      <td>1.0</td>\n",
       "      <td>0.0</td>\n",
       "      <td>0.0</td>\n",
       "    </tr>\n",
       "    <tr>\n",
       "      <th>1</th>\n",
       "      <td>NYA</td>\n",
       "      <td>0.006873</td>\n",
       "      <td>0.006811</td>\n",
       "      <td>0.006899</td>\n",
       "      <td>0.000000</td>\n",
       "      <td>0.0</td>\n",
       "      <td>0.0</td>\n",
       "      <td>0.0</td>\n",
       "      <td>0.0</td>\n",
       "      <td>0.0</td>\n",
       "      <td>0.0</td>\n",
       "      <td>0.0</td>\n",
       "      <td>0.0</td>\n",
       "      <td>0.0</td>\n",
       "      <td>0.0</td>\n",
       "      <td>0.0</td>\n",
       "      <td>1.0</td>\n",
       "      <td>0.0</td>\n",
       "      <td>0.0</td>\n",
       "    </tr>\n",
       "    <tr>\n",
       "      <th>2</th>\n",
       "      <td>NYA</td>\n",
       "      <td>0.006883</td>\n",
       "      <td>0.006820</td>\n",
       "      <td>0.006908</td>\n",
       "      <td>0.000000</td>\n",
       "      <td>0.0</td>\n",
       "      <td>0.0</td>\n",
       "      <td>0.0</td>\n",
       "      <td>0.0</td>\n",
       "      <td>0.0</td>\n",
       "      <td>0.0</td>\n",
       "      <td>0.0</td>\n",
       "      <td>0.0</td>\n",
       "      <td>0.0</td>\n",
       "      <td>0.0</td>\n",
       "      <td>0.0</td>\n",
       "      <td>1.0</td>\n",
       "      <td>0.0</td>\n",
       "      <td>0.0</td>\n",
       "    </tr>\n",
       "    <tr>\n",
       "      <th>3</th>\n",
       "      <td>NYA</td>\n",
       "      <td>0.006930</td>\n",
       "      <td>0.006867</td>\n",
       "      <td>0.006956</td>\n",
       "      <td>0.000000</td>\n",
       "      <td>0.0</td>\n",
       "      <td>0.0</td>\n",
       "      <td>0.0</td>\n",
       "      <td>0.0</td>\n",
       "      <td>0.0</td>\n",
       "      <td>0.0</td>\n",
       "      <td>0.0</td>\n",
       "      <td>0.0</td>\n",
       "      <td>0.0</td>\n",
       "      <td>0.0</td>\n",
       "      <td>0.0</td>\n",
       "      <td>1.0</td>\n",
       "      <td>0.0</td>\n",
       "      <td>0.0</td>\n",
       "    </tr>\n",
       "    <tr>\n",
       "      <th>4</th>\n",
       "      <td>NYA</td>\n",
       "      <td>0.006944</td>\n",
       "      <td>0.006881</td>\n",
       "      <td>0.006970</td>\n",
       "      <td>0.000000</td>\n",
       "      <td>0.0</td>\n",
       "      <td>0.0</td>\n",
       "      <td>0.0</td>\n",
       "      <td>0.0</td>\n",
       "      <td>0.0</td>\n",
       "      <td>0.0</td>\n",
       "      <td>0.0</td>\n",
       "      <td>0.0</td>\n",
       "      <td>0.0</td>\n",
       "      <td>0.0</td>\n",
       "      <td>0.0</td>\n",
       "      <td>1.0</td>\n",
       "      <td>0.0</td>\n",
       "      <td>0.0</td>\n",
       "    </tr>\n",
       "    <tr>\n",
       "      <th>...</th>\n",
       "      <td>...</td>\n",
       "      <td>...</td>\n",
       "      <td>...</td>\n",
       "      <td>...</td>\n",
       "      <td>...</td>\n",
       "      <td>...</td>\n",
       "      <td>...</td>\n",
       "      <td>...</td>\n",
       "      <td>...</td>\n",
       "      <td>...</td>\n",
       "      <td>...</td>\n",
       "      <td>...</td>\n",
       "      <td>...</td>\n",
       "      <td>...</td>\n",
       "      <td>...</td>\n",
       "      <td>...</td>\n",
       "      <td>...</td>\n",
       "      <td>...</td>\n",
       "      <td>...</td>\n",
       "    </tr>\n",
       "    <tr>\n",
       "      <th>109533</th>\n",
       "      <td>N100</td>\n",
       "      <td>0.009091</td>\n",
       "      <td>0.009023</td>\n",
       "      <td>0.009113</td>\n",
       "      <td>0.000425</td>\n",
       "      <td>0.0</td>\n",
       "      <td>0.0</td>\n",
       "      <td>0.0</td>\n",
       "      <td>0.0</td>\n",
       "      <td>0.0</td>\n",
       "      <td>0.0</td>\n",
       "      <td>0.0</td>\n",
       "      <td>0.0</td>\n",
       "      <td>1.0</td>\n",
       "      <td>0.0</td>\n",
       "      <td>0.0</td>\n",
       "      <td>0.0</td>\n",
       "      <td>0.0</td>\n",
       "      <td>0.0</td>\n",
       "    </tr>\n",
       "    <tr>\n",
       "      <th>109534</th>\n",
       "      <td>N100</td>\n",
       "      <td>0.009144</td>\n",
       "      <td>0.009090</td>\n",
       "      <td>0.009171</td>\n",
       "      <td>0.000000</td>\n",
       "      <td>0.0</td>\n",
       "      <td>0.0</td>\n",
       "      <td>0.0</td>\n",
       "      <td>0.0</td>\n",
       "      <td>0.0</td>\n",
       "      <td>0.0</td>\n",
       "      <td>0.0</td>\n",
       "      <td>0.0</td>\n",
       "      <td>1.0</td>\n",
       "      <td>0.0</td>\n",
       "      <td>0.0</td>\n",
       "      <td>0.0</td>\n",
       "      <td>0.0</td>\n",
       "      <td>0.0</td>\n",
       "    </tr>\n",
       "    <tr>\n",
       "      <th>109535</th>\n",
       "      <td>N100</td>\n",
       "      <td>0.009186</td>\n",
       "      <td>0.009156</td>\n",
       "      <td>0.009208</td>\n",
       "      <td>0.001397</td>\n",
       "      <td>0.0</td>\n",
       "      <td>0.0</td>\n",
       "      <td>0.0</td>\n",
       "      <td>0.0</td>\n",
       "      <td>0.0</td>\n",
       "      <td>0.0</td>\n",
       "      <td>0.0</td>\n",
       "      <td>0.0</td>\n",
       "      <td>1.0</td>\n",
       "      <td>0.0</td>\n",
       "      <td>0.0</td>\n",
       "      <td>0.0</td>\n",
       "      <td>0.0</td>\n",
       "      <td>0.0</td>\n",
       "    </tr>\n",
       "    <tr>\n",
       "      <th>109536</th>\n",
       "      <td>N100</td>\n",
       "      <td>0.009192</td>\n",
       "      <td>0.009137</td>\n",
       "      <td>0.009171</td>\n",
       "      <td>0.001392</td>\n",
       "      <td>0.0</td>\n",
       "      <td>0.0</td>\n",
       "      <td>0.0</td>\n",
       "      <td>0.0</td>\n",
       "      <td>0.0</td>\n",
       "      <td>0.0</td>\n",
       "      <td>0.0</td>\n",
       "      <td>0.0</td>\n",
       "      <td>1.0</td>\n",
       "      <td>0.0</td>\n",
       "      <td>0.0</td>\n",
       "      <td>0.0</td>\n",
       "      <td>0.0</td>\n",
       "      <td>0.0</td>\n",
       "    </tr>\n",
       "    <tr>\n",
       "      <th>109537</th>\n",
       "      <td>N100</td>\n",
       "      <td>0.009196</td>\n",
       "      <td>0.009118</td>\n",
       "      <td>0.009186</td>\n",
       "      <td>0.000647</td>\n",
       "      <td>0.0</td>\n",
       "      <td>0.0</td>\n",
       "      <td>0.0</td>\n",
       "      <td>0.0</td>\n",
       "      <td>0.0</td>\n",
       "      <td>0.0</td>\n",
       "      <td>0.0</td>\n",
       "      <td>0.0</td>\n",
       "      <td>1.0</td>\n",
       "      <td>0.0</td>\n",
       "      <td>0.0</td>\n",
       "      <td>0.0</td>\n",
       "      <td>0.0</td>\n",
       "      <td>0.0</td>\n",
       "    </tr>\n",
       "  </tbody>\n",
       "</table>\n",
       "<p>71117 rows × 19 columns</p>\n",
       "</div>"
      ],
      "text/plain": [
       "       Index      Open      High  ...  Index_NYA  Index_SSMI  Index_TWII\n",
       "0        NYA  0.006895  0.006832  ...        1.0         0.0         0.0\n",
       "1        NYA  0.006873  0.006811  ...        1.0         0.0         0.0\n",
       "2        NYA  0.006883  0.006820  ...        1.0         0.0         0.0\n",
       "3        NYA  0.006930  0.006867  ...        1.0         0.0         0.0\n",
       "4        NYA  0.006944  0.006881  ...        1.0         0.0         0.0\n",
       "...      ...       ...       ...  ...        ...         ...         ...\n",
       "109533  N100  0.009091  0.009023  ...        0.0         0.0         0.0\n",
       "109534  N100  0.009144  0.009090  ...        0.0         0.0         0.0\n",
       "109535  N100  0.009186  0.009156  ...        0.0         0.0         0.0\n",
       "109536  N100  0.009192  0.009137  ...        0.0         0.0         0.0\n",
       "109537  N100  0.009196  0.009118  ...        0.0         0.0         0.0\n",
       "\n",
       "[71117 rows x 19 columns]"
      ]
     },
     "execution_count": 62,
     "metadata": {},
     "output_type": "execute_result"
    }
   ],
   "source": [
    "train_inputs"
   ]
  },
  {
   "cell_type": "markdown",
   "metadata": {
    "id": "NcuyVBCFR4xz"
   },
   "source": [
    "Now, let's select only numeric and encoded columns for our final input dataset."
   ]
  },
  {
   "cell_type": "code",
   "execution_count": 64,
   "metadata": {
    "colab": {
     "base_uri": "https://localhost:8080/"
    },
    "executionInfo": {
     "elapsed": 729,
     "status": "ok",
     "timestamp": 1635833655961,
     "user": {
      "displayName": "19BCP008_ Amit Hirpara",
      "photoUrl": "https://lh3.googleusercontent.com/a/default-user=s64",
      "userId": "17377830786468711401"
     },
     "user_tz": -330
    },
    "id": "sUN3qTi0SA76",
    "outputId": "348233b5-bbfa-4d06-bc9b-7fdd09f1880c"
   },
   "outputs": [
    {
     "data": {
      "text/plain": [
       "((71117, 18), (39136, 18))"
      ]
     },
     "execution_count": 64,
     "metadata": {},
     "output_type": "execute_result"
    }
   ],
   "source": [
    "X_train = train_inputs[numeric_cols+encoded_cols]\n",
    "X_val = val_inputs[numeric_cols+encoded_cols]\n",
    "\n",
    "X_train.shape, X_val.shape"
   ]
  },
  {
   "cell_type": "markdown",
   "metadata": {
    "id": "zmv-Ve66SOj6"
   },
   "source": [
    "# Models\n",
    "\n",
    "To predict close price we have to perform regression on this dataset. For the regraesion I am going to use 2 models:\n",
    "1. Linear-Regression\n",
    "2. Random-Forest-Regressor"
   ]
  },
  {
   "cell_type": "code",
   "execution_count": 87,
   "metadata": {
    "executionInfo": {
     "elapsed": 27280,
     "status": "ok",
     "timestamp": 1635835206962,
     "user": {
      "displayName": "19BCP008_ Amit Hirpara",
      "photoUrl": "https://lh3.googleusercontent.com/a/default-user=s64",
      "userId": "17377830786468711401"
     },
     "user_tz": -330
    },
    "id": "YvgICRg3SpU9"
   },
   "outputs": [],
   "source": [
    "from sklearn.linear_model import LinearRegression\n",
    "from sklearn.ensemble import RandomForestRegressor\n",
    "\n",
    "li_model = LinearRegression(n_jobs=-1).fit(X_train,train_targets)\n",
    "fo_model = RandomForestRegressor(n_jobs=-1,random_state=42).fit(X_train,train_targets)"
   ]
  },
  {
   "cell_type": "code",
   "execution_count": 88,
   "metadata": {
    "colab": {
     "base_uri": "https://localhost:8080/"
    },
    "executionInfo": {
     "elapsed": 2158,
     "status": "ok",
     "timestamp": 1635835214511,
     "user": {
      "displayName": "19BCP008_ Amit Hirpara",
      "photoUrl": "https://lh3.googleusercontent.com/a/default-user=s64",
      "userId": "17377830786468711401"
     },
     "user_tz": -330
    },
    "id": "rVX8qJR2T42F",
    "outputId": "550f719e-0852-4533-a6c2-18f3f6d67dff"
   },
   "outputs": [
    {
     "name": "stdout",
     "output_type": "stream",
     "text": [
      "0.9999585383504124 0.999969766694016\n",
      "0.9999914547347505 0.9139713394435315\n"
     ]
    }
   ],
   "source": [
    "print(li_model.score(X_train,train_targets), li_model.score(X_val,val_targets))\n",
    "print(fo_model.score(X_train,train_targets), fo_model.score(X_val,val_targets))"
   ]
  },
  {
   "cell_type": "markdown",
   "metadata": {
    "id": "9H0L8jiaUu2C"
   },
   "source": [
    "As we can see that for the linear regression train and validation acuarcy are same, but for randomforest train and validation accuracy are different.\n",
    "As we saw in visualization part the realtion between two features is linear, that's why linear regression model perform best in both train and validation cases than randomforest model."
   ]
  },
  {
   "cell_type": "markdown",
   "metadata": {
    "id": "h-cGp-geV7nS"
   },
   "source": [
    "# Coefficients of Linear Regression"
   ]
  },
  {
   "cell_type": "code",
   "execution_count": 89,
   "metadata": {
    "colab": {
     "base_uri": "https://localhost:8080/"
    },
    "executionInfo": {
     "elapsed": 480,
     "status": "ok",
     "timestamp": 1635835221444,
     "user": {
      "displayName": "19BCP008_ Amit Hirpara",
      "photoUrl": "https://lh3.googleusercontent.com/a/default-user=s64",
      "userId": "17377830786468711401"
     },
     "user_tz": -330
    },
    "id": "LUw-dA2fWE5p",
    "outputId": "a71620cf-b772-4b89-985d-82dd5682a67c"
   },
   "outputs": [
    {
     "data": {
      "text/plain": [
       "Index(['Open', 'High', 'Low', 'Volume', 'Index_000001.SS', 'Index_399001.SZ',\n",
       "       'Index_GDAXI', 'Index_GSPTSE', 'Index_HSI', 'Index_IXIC',\n",
       "       'Index_J203.JO', 'Index_KS11', 'Index_N100', 'Index_N225', 'Index_NSEI',\n",
       "       'Index_NYA', 'Index_SSMI', 'Index_TWII'],\n",
       "      dtype='object')"
      ]
     },
     "execution_count": 89,
     "metadata": {},
     "output_type": "execute_result"
    }
   ],
   "source": [
    "X_train.columns"
   ]
  },
  {
   "cell_type": "code",
   "execution_count": 90,
   "metadata": {
    "colab": {
     "base_uri": "https://localhost:8080/"
    },
    "executionInfo": {
     "elapsed": 9,
     "status": "ok",
     "timestamp": 1635835223458,
     "user": {
      "displayName": "19BCP008_ Amit Hirpara",
      "photoUrl": "https://lh3.googleusercontent.com/a/default-user=s64",
      "userId": "17377830786468711401"
     },
     "user_tz": -330
    },
    "id": "tHlVTqA_V_zY",
    "outputId": "e3c58a0b-a102-41e6-ca4a-669e31f1a3bd"
   },
   "outputs": [
    {
     "data": {
      "text/plain": [
       "(array([-4.54009138e+04,  6.05149792e+04,  5.39342088e+04,  1.98327995e+01,\n",
       "         1.64643450e+00,  2.15001958e+00,  1.58207256e-01,  1.89630619e-01,\n",
       "         2.12779280e+00, -7.05160779e-02, -2.16550688e-09,  6.47773490e-02,\n",
       "        -1.91052353e-01, -1.45976384e+00, -3.35225195e-01,  2.85018252e-01,\n",
       "        -6.70147323e-01, -3.89517557e+00]), 55.12641035423076)"
      ]
     },
     "execution_count": 90,
     "metadata": {},
     "output_type": "execute_result"
    }
   ],
   "source": [
    "li_model.coef_, li_model.intercept_"
   ]
  },
  {
   "cell_type": "markdown",
   "metadata": {
    "id": "t0_OQHM_WVEV"
   },
   "source": [
    "# Feature Importance of Random Forest"
   ]
  },
  {
   "cell_type": "code",
   "execution_count": 91,
   "metadata": {
    "colab": {
     "base_uri": "https://localhost:8080/",
     "height": 614
    },
    "executionInfo": {
     "elapsed": 498,
     "status": "ok",
     "timestamp": 1635835227000,
     "user": {
      "displayName": "19BCP008_ Amit Hirpara",
      "photoUrl": "https://lh3.googleusercontent.com/a/default-user=s64",
      "userId": "17377830786468711401"
     },
     "user_tz": -330
    },
    "id": "kEOsTcEyWaEo",
    "outputId": "e125b0b0-96e1-45ba-fbcf-67ef635deb74"
   },
   "outputs": [
    {
     "data": {
      "text/html": [
       "<div>\n",
       "<style scoped>\n",
       "    .dataframe tbody tr th:only-of-type {\n",
       "        vertical-align: middle;\n",
       "    }\n",
       "\n",
       "    .dataframe tbody tr th {\n",
       "        vertical-align: top;\n",
       "    }\n",
       "\n",
       "    .dataframe thead th {\n",
       "        text-align: right;\n",
       "    }\n",
       "</style>\n",
       "<table border=\"1\" class=\"dataframe\">\n",
       "  <thead>\n",
       "    <tr style=\"text-align: right;\">\n",
       "      <th></th>\n",
       "      <th>feature</th>\n",
       "      <th>importance</th>\n",
       "    </tr>\n",
       "  </thead>\n",
       "  <tbody>\n",
       "    <tr>\n",
       "      <th>2</th>\n",
       "      <td>Low</td>\n",
       "      <td>5.084362e-01</td>\n",
       "    </tr>\n",
       "    <tr>\n",
       "      <th>1</th>\n",
       "      <td>High</td>\n",
       "      <td>4.915022e-01</td>\n",
       "    </tr>\n",
       "    <tr>\n",
       "      <th>0</th>\n",
       "      <td>Open</td>\n",
       "      <td>5.472788e-05</td>\n",
       "    </tr>\n",
       "    <tr>\n",
       "      <th>3</th>\n",
       "      <td>Volume</td>\n",
       "      <td>4.206719e-06</td>\n",
       "    </tr>\n",
       "    <tr>\n",
       "      <th>5</th>\n",
       "      <td>Index_399001.SZ</td>\n",
       "      <td>6.932409e-07</td>\n",
       "    </tr>\n",
       "    <tr>\n",
       "      <th>8</th>\n",
       "      <td>Index_HSI</td>\n",
       "      <td>6.110930e-07</td>\n",
       "    </tr>\n",
       "    <tr>\n",
       "      <th>13</th>\n",
       "      <td>Index_N225</td>\n",
       "      <td>5.570985e-07</td>\n",
       "    </tr>\n",
       "    <tr>\n",
       "      <th>17</th>\n",
       "      <td>Index_TWII</td>\n",
       "      <td>1.658983e-07</td>\n",
       "    </tr>\n",
       "    <tr>\n",
       "      <th>16</th>\n",
       "      <td>Index_SSMI</td>\n",
       "      <td>1.314933e-07</td>\n",
       "    </tr>\n",
       "    <tr>\n",
       "      <th>7</th>\n",
       "      <td>Index_GSPTSE</td>\n",
       "      <td>1.295131e-07</td>\n",
       "    </tr>\n",
       "    <tr>\n",
       "      <th>6</th>\n",
       "      <td>Index_GDAXI</td>\n",
       "      <td>1.226487e-07</td>\n",
       "    </tr>\n",
       "    <tr>\n",
       "      <th>15</th>\n",
       "      <td>Index_NYA</td>\n",
       "      <td>9.870108e-08</td>\n",
       "    </tr>\n",
       "    <tr>\n",
       "      <th>14</th>\n",
       "      <td>Index_NSEI</td>\n",
       "      <td>7.079918e-08</td>\n",
       "    </tr>\n",
       "    <tr>\n",
       "      <th>4</th>\n",
       "      <td>Index_000001.SS</td>\n",
       "      <td>5.510456e-08</td>\n",
       "    </tr>\n",
       "    <tr>\n",
       "      <th>9</th>\n",
       "      <td>Index_IXIC</td>\n",
       "      <td>2.226433e-08</td>\n",
       "    </tr>\n",
       "    <tr>\n",
       "      <th>11</th>\n",
       "      <td>Index_KS11</td>\n",
       "      <td>3.861058e-09</td>\n",
       "    </tr>\n",
       "    <tr>\n",
       "      <th>12</th>\n",
       "      <td>Index_N100</td>\n",
       "      <td>5.845070e-10</td>\n",
       "    </tr>\n",
       "    <tr>\n",
       "      <th>10</th>\n",
       "      <td>Index_J203.JO</td>\n",
       "      <td>0.000000e+00</td>\n",
       "    </tr>\n",
       "  </tbody>\n",
       "</table>\n",
       "</div>"
      ],
      "text/plain": [
       "            feature    importance\n",
       "2               Low  5.084362e-01\n",
       "1              High  4.915022e-01\n",
       "0              Open  5.472788e-05\n",
       "3            Volume  4.206719e-06\n",
       "5   Index_399001.SZ  6.932409e-07\n",
       "8         Index_HSI  6.110930e-07\n",
       "13       Index_N225  5.570985e-07\n",
       "17       Index_TWII  1.658983e-07\n",
       "16       Index_SSMI  1.314933e-07\n",
       "7      Index_GSPTSE  1.295131e-07\n",
       "6       Index_GDAXI  1.226487e-07\n",
       "15        Index_NYA  9.870108e-08\n",
       "14       Index_NSEI  7.079918e-08\n",
       "4   Index_000001.SS  5.510456e-08\n",
       "9        Index_IXIC  2.226433e-08\n",
       "11       Index_KS11  3.861058e-09\n",
       "12       Index_N100  5.845070e-10\n",
       "10    Index_J203.JO  0.000000e+00"
      ]
     },
     "execution_count": 91,
     "metadata": {},
     "output_type": "execute_result"
    }
   ],
   "source": [
    "importance_df = pd.DataFrame({\n",
    "    'feature' : X_train.columns,\n",
    "    'importance' : fo_model.feature_importances_\n",
    "}).sort_values('importance',ascending=False)\n",
    "\n",
    "importance_df"
   ]
  },
  {
   "cell_type": "markdown",
   "metadata": {
    "id": "jufkCGf2VXt9"
   },
   "source": [
    "# Hyperparameter Tuning for RandomForest"
   ]
  },
  {
   "cell_type": "markdown",
   "metadata": {
    "id": "u_2tUufSXcOi"
   },
   "source": [
    "### n_esimators"
   ]
  },
  {
   "cell_type": "code",
   "execution_count": 95,
   "metadata": {
    "colab": {
     "base_uri": "https://localhost:8080/",
     "height": 175
    },
    "executionInfo": {
     "elapsed": 63233,
     "status": "ok",
     "timestamp": 1635835680634,
     "user": {
      "displayName": "19BCP008_ Amit Hirpara",
      "photoUrl": "https://lh3.googleusercontent.com/a/default-user=s64",
      "userId": "17377830786468711401"
     },
     "user_tz": -330
    },
    "id": "n8IEOyvdVo9Q",
    "outputId": "3eb0b001-b5a3-4483-c7f9-00b8ebc81863"
   },
   "outputs": [
    {
     "data": {
      "text/html": [
       "<div>\n",
       "<style scoped>\n",
       "    .dataframe tbody tr th:only-of-type {\n",
       "        vertical-align: middle;\n",
       "    }\n",
       "\n",
       "    .dataframe tbody tr th {\n",
       "        vertical-align: top;\n",
       "    }\n",
       "\n",
       "    .dataframe thead th {\n",
       "        text-align: right;\n",
       "    }\n",
       "</style>\n",
       "<table border=\"1\" class=\"dataframe\">\n",
       "  <thead>\n",
       "    <tr style=\"text-align: right;\">\n",
       "      <th></th>\n",
       "      <th>n_estimators</th>\n",
       "      <th>Training Accuracy</th>\n",
       "      <th>Validation Accuracy</th>\n",
       "    </tr>\n",
       "  </thead>\n",
       "  <tbody>\n",
       "    <tr>\n",
       "      <th>0</th>\n",
       "      <td>40</td>\n",
       "      <td>0.999991</td>\n",
       "      <td>0.914010</td>\n",
       "    </tr>\n",
       "    <tr>\n",
       "      <th>1</th>\n",
       "      <td>50</td>\n",
       "      <td>0.999991</td>\n",
       "      <td>0.914023</td>\n",
       "    </tr>\n",
       "    <tr>\n",
       "      <th>2</th>\n",
       "      <td>60</td>\n",
       "      <td>0.999991</td>\n",
       "      <td>0.914017</td>\n",
       "    </tr>\n",
       "    <tr>\n",
       "      <th>3</th>\n",
       "      <td>70</td>\n",
       "      <td>0.999991</td>\n",
       "      <td>0.914014</td>\n",
       "    </tr>\n",
       "  </tbody>\n",
       "</table>\n",
       "</div>"
      ],
      "text/plain": [
       "   n_estimators  Training Accuracy  Validation Accuracy\n",
       "0            40           0.999991             0.914010\n",
       "1            50           0.999991             0.914023\n",
       "2            60           0.999991             0.914017\n",
       "3            70           0.999991             0.914014"
      ]
     },
     "execution_count": 95,
     "metadata": {},
     "output_type": "execute_result"
    }
   ],
   "source": [
    "def estimators(n):\n",
    "    model = RandomForestRegressor(random_state=42,n_jobs=-1,n_estimators=n).fit(X_train,train_targets)\n",
    "    train_acc = model.score(X_train,train_targets)\n",
    "    val_acc = model.score(X_val,val_targets)\n",
    "    return {'n_estimators' : n, 'Training Accuracy' : train_acc, 'Validation Accuracy' : val_acc}\n",
    "\n",
    "esti_df = pd.DataFrame([estimators(n) for n in range(40,80,10)])\n",
    "esti_df"
   ]
  },
  {
   "cell_type": "markdown",
   "metadata": {
    "id": "HDJlfic9Zc9g"
   },
   "source": [
    "From the above values of n_estimators we can say that we got same accuarcy."
   ]
  },
  {
   "cell_type": "markdown",
   "metadata": {
    "id": "QYlULxPLaGbH"
   },
   "source": [
    "### max_depth and max_leaf_node"
   ]
  },
  {
   "cell_type": "code",
   "execution_count": 99,
   "metadata": {
    "colab": {
     "base_uri": "https://localhost:8080/",
     "height": 424
    },
    "executionInfo": {
     "elapsed": 2458212,
     "status": "ok",
     "timestamp": 1635838590652,
     "user": {
      "displayName": "19BCP008_ Amit Hirpara",
      "photoUrl": "https://lh3.googleusercontent.com/a/default-user=s64",
      "userId": "17377830786468711401"
     },
     "user_tz": -330
    },
    "id": "s8caA22QaP2v",
    "outputId": "71b7f3cd-8c56-4ca3-fbcc-15e3ededbd12"
   },
   "outputs": [
    {
     "data": {
      "text/html": [
       "<div>\n",
       "<style scoped>\n",
       "    .dataframe tbody tr th:only-of-type {\n",
       "        vertical-align: middle;\n",
       "    }\n",
       "\n",
       "    .dataframe tbody tr th {\n",
       "        vertical-align: top;\n",
       "    }\n",
       "\n",
       "    .dataframe thead th {\n",
       "        text-align: right;\n",
       "    }\n",
       "</style>\n",
       "<table border=\"1\" class=\"dataframe\">\n",
       "  <thead>\n",
       "    <tr style=\"text-align: right;\">\n",
       "      <th></th>\n",
       "      <th>max_depth</th>\n",
       "      <th>max_leaf_nodes</th>\n",
       "      <th>Training Accuracy</th>\n",
       "      <th>Validation Accuracy</th>\n",
       "    </tr>\n",
       "  </thead>\n",
       "  <tbody>\n",
       "    <tr>\n",
       "      <th>0</th>\n",
       "      <td>1</td>\n",
       "      <td>100</td>\n",
       "      <td>0.673678</td>\n",
       "      <td>0.332791</td>\n",
       "    </tr>\n",
       "    <tr>\n",
       "      <th>1</th>\n",
       "      <td>1</td>\n",
       "      <td>110</td>\n",
       "      <td>0.673678</td>\n",
       "      <td>0.332791</td>\n",
       "    </tr>\n",
       "    <tr>\n",
       "      <th>2</th>\n",
       "      <td>1</td>\n",
       "      <td>120</td>\n",
       "      <td>0.673678</td>\n",
       "      <td>0.332791</td>\n",
       "    </tr>\n",
       "    <tr>\n",
       "      <th>3</th>\n",
       "      <td>1</td>\n",
       "      <td>130</td>\n",
       "      <td>0.673678</td>\n",
       "      <td>0.332791</td>\n",
       "    </tr>\n",
       "    <tr>\n",
       "      <th>4</th>\n",
       "      <td>1</td>\n",
       "      <td>140</td>\n",
       "      <td>0.673678</td>\n",
       "      <td>0.332791</td>\n",
       "    </tr>\n",
       "    <tr>\n",
       "      <th>...</th>\n",
       "      <td>...</td>\n",
       "      <td>...</td>\n",
       "      <td>...</td>\n",
       "      <td>...</td>\n",
       "    </tr>\n",
       "    <tr>\n",
       "      <th>195</th>\n",
       "      <td>20</td>\n",
       "      <td>150</td>\n",
       "      <td>0.999917</td>\n",
       "      <td>0.909649</td>\n",
       "    </tr>\n",
       "    <tr>\n",
       "      <th>196</th>\n",
       "      <td>20</td>\n",
       "      <td>160</td>\n",
       "      <td>0.999919</td>\n",
       "      <td>0.909878</td>\n",
       "    </tr>\n",
       "    <tr>\n",
       "      <th>197</th>\n",
       "      <td>20</td>\n",
       "      <td>170</td>\n",
       "      <td>0.999921</td>\n",
       "      <td>0.910047</td>\n",
       "    </tr>\n",
       "    <tr>\n",
       "      <th>198</th>\n",
       "      <td>20</td>\n",
       "      <td>180</td>\n",
       "      <td>0.999923</td>\n",
       "      <td>0.910370</td>\n",
       "    </tr>\n",
       "    <tr>\n",
       "      <th>199</th>\n",
       "      <td>20</td>\n",
       "      <td>190</td>\n",
       "      <td>0.999924</td>\n",
       "      <td>0.910548</td>\n",
       "    </tr>\n",
       "  </tbody>\n",
       "</table>\n",
       "<p>200 rows × 4 columns</p>\n",
       "</div>"
      ],
      "text/plain": [
       "     max_depth  max_leaf_nodes  Training Accuracy  Validation Accuracy\n",
       "0            1             100           0.673678             0.332791\n",
       "1            1             110           0.673678             0.332791\n",
       "2            1             120           0.673678             0.332791\n",
       "3            1             130           0.673678             0.332791\n",
       "4            1             140           0.673678             0.332791\n",
       "..         ...             ...                ...                  ...\n",
       "195         20             150           0.999917             0.909649\n",
       "196         20             160           0.999919             0.909878\n",
       "197         20             170           0.999921             0.910047\n",
       "198         20             180           0.999923             0.910370\n",
       "199         20             190           0.999924             0.910548\n",
       "\n",
       "[200 rows x 4 columns]"
      ]
     },
     "execution_count": 99,
     "metadata": {},
     "output_type": "execute_result"
    }
   ],
   "source": [
    "def dl(md,lf):\n",
    "  model = RandomForestRegressor(n_jobs=-1,random_state=42,max_depth=md,max_leaf_nodes=lf).fit(X_train,train_targets)\n",
    "  train_acc = model.score(X_train,train_targets)\n",
    "  val_acc = model.score(X_val,val_targets)\n",
    "  return {'max_depth':md,'max_leaf_nodes':lf,'Training Accuracy':train_acc,'Validation Accuracy':val_acc}\n",
    "\n",
    "best_df = pd.DataFrame([dl(md,lf) for md in range(1,21) for lf in range(100,200,10)])\n",
    "best_df"
   ]
  },
  {
   "cell_type": "markdown",
   "metadata": {
    "id": "TdMBUHFbnYxj"
   },
   "source": [
    "Now let's try some random values of max_depth and max_leaf node"
   ]
  },
  {
   "cell_type": "code",
   "execution_count": 116,
   "metadata": {
    "colab": {
     "base_uri": "https://localhost:8080/"
    },
    "executionInfo": {
     "elapsed": 193614,
     "status": "ok",
     "timestamp": 1635840457195,
     "user": {
      "displayName": "19BCP008_ Amit Hirpara",
      "photoUrl": "https://lh3.googleusercontent.com/a/default-user=s64",
      "userId": "17377830786468711401"
     },
     "user_tz": -330
    },
    "id": "BNSorzq_ngfT",
    "outputId": "81bdb66b-d12c-435d-e2b3-bee6e5d95c9d"
   },
   "outputs": [
    {
     "data": {
      "text/plain": [
       "0.9137532267229339"
      ]
     },
     "execution_count": 116,
     "metadata": {},
     "output_type": "execute_result"
    }
   ],
   "source": [
    "model = RandomForestRegressor(n_jobs=-1,random_state=42,n_estimators=1000,max_depth=2000,max_leaf_nodes=2000).fit(X_train,train_targets)\n",
    "acc = model.score(X_val,val_targets)\n",
    "acc"
   ]
  },
  {
   "cell_type": "markdown",
   "metadata": {
    "id": "6ummxwB_sB_g"
   },
   "source": [
    "# Final Model Performance"
   ]
  },
  {
   "cell_type": "code",
   "execution_count": 117,
   "metadata": {
    "colab": {
     "base_uri": "https://localhost:8080/"
    },
    "executionInfo": {
     "elapsed": 2901,
     "status": "ok",
     "timestamp": 1635840603624,
     "user": {
      "displayName": "19BCP008_ Amit Hirpara",
      "photoUrl": "https://lh3.googleusercontent.com/a/default-user=s64",
      "userId": "17377830786468711401"
     },
     "user_tz": -330
    },
    "id": "XrKdtkPNsF2K",
    "outputId": "b1356b29-08b1-4df4-9480-7977ecb58ca5"
   },
   "outputs": [
    {
     "name": "stdout",
     "output_type": "stream",
     "text": [
      "Final Linear Regression model performance is :  0.999969766694016\n",
      "Final Random Forest Regression model performance is :  0.9137532267229339\n"
     ]
    }
   ],
   "source": [
    "li_score = li_model.score(X_val,val_targets) # for Linear Regression\n",
    "fo_score = model.score(X_val,val_targets) # for random Forest Regression\n",
    "print(\"Final Linear Regression model performance is : \",li_score)\n",
    "print(\"Final Random Forest Regression model performance is : \",fo_score)"
   ]
  },
  {
   "cell_type": "markdown",
   "metadata": {
    "id": "of8Y7PKtsxLV"
   },
   "source": [
    "# Sample Predictions"
   ]
  },
  {
   "cell_type": "code",
   "execution_count": 128,
   "metadata": {
    "colab": {
     "base_uri": "https://localhost:8080/"
    },
    "executionInfo": {
     "elapsed": 821,
     "status": "ok",
     "timestamp": 1635840860430,
     "user": {
      "displayName": "19BCP008_ Amit Hirpara",
      "photoUrl": "https://lh3.googleusercontent.com/a/default-user=s64",
      "userId": "17377830786468711401"
     },
     "user_tz": -330
    },
    "id": "lOu9xNaisz0D",
    "outputId": "5dc286d9-c51d-4f09-b084-94501f6e212a"
   },
   "outputs": [
    {
     "data": {
      "text/plain": [
       "([7312.098133744642,\n",
       "  7344.183393395817,\n",
       "  7374.914405671056,\n",
       "  7354.296261935906,\n",
       "  7401.320576415574,\n",
       "  7460.3194069833335,\n",
       "  7363.5612157123605,\n",
       "  7415.17453751585,\n",
       "  7444.504109638009,\n",
       "  7352.111506066652],\n",
       " 11077    7326.740234\n",
       " 11078    7354.870117\n",
       " 11079    7377.700195\n",
       " 11080    7393.930176\n",
       " 11081    7425.350098\n",
       " 11082    7449.049805\n",
       " 11083    7370.450195\n",
       " 11084    7430.140137\n",
       " 11085    7448.520020\n",
       " 11086    7356.790039\n",
       " Name: Close, dtype: float64)"
      ]
     },
     "execution_count": 128,
     "metadata": {},
     "output_type": "execute_result"
    }
   ],
   "source": [
    "# For Linear Regression\n",
    "list(li_model.predict(X_val)[:10]), val_targets[:10]"
   ]
  },
  {
   "cell_type": "code",
   "execution_count": 129,
   "metadata": {
    "colab": {
     "base_uri": "https://localhost:8080/"
    },
    "executionInfo": {
     "elapsed": 2914,
     "status": "ok",
     "timestamp": 1635840960380,
     "user": {
      "displayName": "19BCP008_ Amit Hirpara",
      "photoUrl": "https://lh3.googleusercontent.com/a/default-user=s64",
      "userId": "17377830786468711401"
     },
     "user_tz": -330
    },
    "id": "tCrcVYM5t2dY",
    "outputId": "87a478ac-3e52-498d-d06c-0616344122fc"
   },
   "outputs": [
    {
     "data": {
      "text/plain": [
       "([7282.585795372046,\n",
       "  7341.42546374815,\n",
       "  7367.447889917807,\n",
       "  7358.2099181820595,\n",
       "  7393.695463923299,\n",
       "  7442.4573318233415,\n",
       "  7392.674277451679,\n",
       "  7413.870550185133,\n",
       "  7437.672911232381,\n",
       "  7375.789267539062],\n",
       " 11077    7326.740234\n",
       " 11078    7354.870117\n",
       " 11079    7377.700195\n",
       " 11080    7393.930176\n",
       " 11081    7425.350098\n",
       " 11082    7449.049805\n",
       " 11083    7370.450195\n",
       " 11084    7430.140137\n",
       " 11085    7448.520020\n",
       " 11086    7356.790039\n",
       " Name: Close, dtype: float64)"
      ]
     },
     "execution_count": 129,
     "metadata": {},
     "output_type": "execute_result"
    }
   ],
   "source": [
    "# For Random Forest Regression\n",
    "list(model.predict(X_val)[:10]), val_targets[:10]"
   ]
  }
 ],
 "metadata": {
  "colab": {
   "collapsed_sections": [],
   "name": "course-project.ipynb",
   "provenance": []
  },
  "language_info": {
   "codemirror_mode": {
    "name": "ipython",
    "version": 3
   },
   "file_extension": ".py",
   "mimetype": "text/x-python",
   "name": "python",
   "nbconvert_exporter": "python",
   "pygments_lexer": "ipython3",
   "version": "3.7.6"
  }
 },
 "nbformat": 4,
 "nbformat_minor": 0
}
